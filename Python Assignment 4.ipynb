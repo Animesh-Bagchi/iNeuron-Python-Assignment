{
 "cells": [
  {
   "cell_type": "code",
   "execution_count": 63,
   "metadata": {},
   "outputs": [
    {
     "name": "stdout",
     "output_type": "stream",
     "text": [
      "Enter the first number: 12\n",
      "Enter the second number: 13\n",
      "Enter the third number: 15\n",
      "The area of the Triangle is :  74.83\n"
     ]
    }
   ],
   "source": [
    "# Question 1.1\n",
    "\n",
    "class Triangle:\n",
    "    def __init__(self, a = int(input('Enter the first number: ')), b = int(input('Enter the second number: ')), c = int(input('Enter the third number: '))):\n",
    "        self.a = a\n",
    "        self.b = b\n",
    "        self.c = c      \n",
    "\n",
    "\n",
    "class Area(Triangle):\n",
    "    def __init__(self,*args):\n",
    "        super().__init__(*args)\n",
    "    \n",
    "    def triangle_area(self):\n",
    "        self.s = (self.a + self.b + self.c)/2\n",
    "        self.cal_area = (self.s * (self.s - self.a) * (self.s - self.b) * (self.s - self.c)) ** 0.5\n",
    "        return self.cal_area\n",
    "\n",
    "        \n",
    "\n",
    "obj = Area()\n",
    "calculated_area = obj.triangle_area()\n",
    "print ('The area of the Triangle is : ', round(calculated_area,2))"
   ]
  },
  {
   "cell_type": "code",
   "execution_count": 4,
   "metadata": {},
   "outputs": [
    {
     "name": "stdout",
     "output_type": "stream",
     "text": [
      "Enter the maximum length of the words: 7\n",
      "Enter the word for the list (press C to exit)Animesh Bagchi\n",
      "Enter the word for the list (press C to exit)iNeuron\n",
      "Enter the word for the list (press C to exit)Machine Learning\n",
      "Enter the word for the list (press C to exit)Function\n",
      "Enter the word for the list (press C to exit)Data Science\n",
      "Enter the word for the list (press C to exit)Animesh\n",
      "Enter the word for the list (press C to exit)Anne\n",
      "Enter the word for the list (press C to exit)C\n",
      "The words with more than 7 letters are ['Animesh Bagchi', 'Machine Learning', 'Function', 'Data Science']\n"
     ]
    }
   ],
   "source": [
    "# Question 1.2\n",
    "\n",
    "def filter_long_words(length,words_list):\n",
    "    return_list = []\n",
    "    for i in words_list:\n",
    "        if len(i) > length:\n",
    "            return_list.append(i)\n",
    "    return return_list           \n",
    "\n",
    "\n",
    "input_length = int(input('Enter the maximum length of the words: '))\n",
    "input_words_list = []\n",
    "\n",
    "\n",
    "while True:\n",
    "    word = input(\"Enter the word for the list (press C to exit)\")\n",
    "    if word == 'c' or word == 'C':\n",
    "        break\n",
    "    else:\n",
    "        input_words_list.append(word)\n",
    "\n",
    "output_list = filter_long_words(input_length,input_words_list)\n",
    "print('The words with more than ' + str(input_length) +  ' letters are', output_list[:])"
   ]
  },
  {
   "cell_type": "code",
   "execution_count": 51,
   "metadata": {
    "scrolled": true
   },
   "outputs": [
    {
     "name": "stdout",
     "output_type": "stream",
     "text": [
      "Enter the word for the list (press C to exit)Animesh\n",
      "Enter the word for the list (press C to exit)Bagchi\n",
      "Enter the word for the list (press C to exit)Machine\n",
      "Enter the word for the list (press C to exit)Learning\n",
      "Enter the word for the list (press C to exit)Data\n",
      "Enter the word for the list (press C to exit)Science\n",
      "Enter the word for the list (press C to exit)c\n",
      "The length of the words are: [7, 6, 7, 8, 4, 7]\n"
     ]
    }
   ],
   "source": [
    "# Question 2.1\n",
    "\n",
    "def count_length(list_of_words):\n",
    "    length_of_words = []\n",
    "    for i in list_of_words:\n",
    "        length_of_words.append(len(i))\n",
    "    return length_of_words           \n",
    "\n",
    "\n",
    "input_words_list = []\n",
    "\n",
    "\n",
    "while True:\n",
    "    word = input(\"Enter the word for the list (press C to exit)\")\n",
    "    if word == 'c' or word == 'C':\n",
    "        break\n",
    "    else:\n",
    "        input_words_list.append(word)\n",
    "\n",
    "output_count_length = count_length(input_words_list)\n",
    "print('The length of the words are:', output_count_length)"
   ]
  },
  {
   "cell_type": "code",
   "execution_count": 57,
   "metadata": {},
   "outputs": [
    {
     "name": "stdout",
     "output_type": "stream",
     "text": [
      "Enter the character to check for vowel: a\n"
     ]
    },
    {
     "data": {
      "text/plain": [
       "True"
      ]
     },
     "execution_count": 57,
     "metadata": {},
     "output_type": "execute_result"
    }
   ],
   "source": [
    "# Question 2.2\n",
    "\n",
    "def vowel_check(input_character):\n",
    "    vowel_list = ['A','E','I','O','U','a','e','i','o','u']\n",
    "    for i in vowel_list:\n",
    "        if input_character == i and len(input_character)==1:\n",
    "            return True\n",
    "    else:\n",
    "        if len(input_character) != 1:\n",
    "            print('Enter only one character')\n",
    "        else:\n",
    "            return False\n",
    "    \n",
    "\n",
    "vowel = input('Enter the character to check for vowel: ')\n",
    "vowel_check(vowel)"
   ]
  },
  {
   "cell_type": "code",
   "execution_count": null,
   "metadata": {},
   "outputs": [],
   "source": []
  }
 ],
 "metadata": {
  "kernelspec": {
   "display_name": "Python 3",
   "language": "python",
   "name": "python3"
  },
  "language_info": {
   "codemirror_mode": {
    "name": "ipython",
    "version": 3
   },
   "file_extension": ".py",
   "mimetype": "text/x-python",
   "name": "python",
   "nbconvert_exporter": "python",
   "pygments_lexer": "ipython3",
   "version": "3.7.1"
  }
 },
 "nbformat": 4,
 "nbformat_minor": 2
}
