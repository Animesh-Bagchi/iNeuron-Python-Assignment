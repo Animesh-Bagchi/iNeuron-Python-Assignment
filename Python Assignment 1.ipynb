{
 "cells": [
  {
   "cell_type": "code",
   "execution_count": 64,
   "metadata": {},
   "outputs": [
    {
     "name": "stdout",
     "output_type": "stream",
     "text": [
      "[2002, 2009, 2016, 2023]\n"
     ]
    }
   ],
   "source": [
    "# Question 1\n",
    "\n",
    "num_list = list(range(2000,3201))\n",
    "new_num_list = []\n",
    "for i in num_list:\n",
    "    if (i % 7) == 0:\n",
    "        if (i % 5) == 0:\n",
    "            break\n",
    "        else:\n",
    "            new_num_list.append(i)\n",
    "print (new_num_list)"
   ]
  },
  {
   "cell_type": "code",
   "execution_count": 65,
   "metadata": {},
   "outputs": [
    {
     "name": "stdout",
     "output_type": "stream",
     "text": [
      "Enter your first nameANimeh\n",
      "Enter your last nameBagchi\n",
      "The reversed name is :  ihcgaB hemiNA\n"
     ]
    }
   ],
   "source": [
    "# Question 2\n",
    "\n",
    "first_name = input('Enter your first name')\n",
    "last_name  = input('Enter your last name')\n",
    "rev_name = first_name + ' ' + last_name\n",
    "print('The reversed name is : ', rev_name[::-1])"
   ]
  },
  {
   "cell_type": "code",
   "execution_count": 66,
   "metadata": {},
   "outputs": [
    {
     "name": "stdout",
     "output_type": "stream",
     "text": [
      "Volume of the sphere is :  50.26548245743669\n"
     ]
    }
   ],
   "source": [
    "# Question 3\n",
    "\n",
    "import math \n",
    "diameter = 12\n",
    "volume = (4/3) * math.pi * diameter\n",
    "print ('Volume of the sphere is : ', volume)"
   ]
  }
 ],
 "metadata": {
  "kernelspec": {
   "display_name": "Python 3",
   "language": "python",
   "name": "python3"
  },
  "language_info": {
   "codemirror_mode": {
    "name": "ipython",
    "version": 3
   },
   "file_extension": ".py",
   "mimetype": "text/x-python",
   "name": "python",
   "nbconvert_exporter": "python",
   "pygments_lexer": "ipython3",
   "version": "3.7.1"
  }
 },
 "nbformat": 4,
 "nbformat_minor": 2
}
