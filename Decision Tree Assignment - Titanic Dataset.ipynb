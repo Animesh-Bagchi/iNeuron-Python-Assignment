{
 "cells": [
  {
   "cell_type": "code",
   "execution_count": 172,
   "id": "resistant-approval",
   "metadata": {},
   "outputs": [],
   "source": [
    "import pandas as pd\n",
    "import numpy as np\n",
    "import matplotlib.pyplot as plt\n",
    "import seaborn as sns\n",
    "from sklearn.preprocessing import LabelEncoder\n",
    "from sklearn.model_selection import train_test_split\n",
    "from sklearn.tree import DecisionTreeClassifier\n",
    "from sklearn.metrics import confusion_matrix\n",
    "from sklearn.model_selection import GridSearchCV\n",
    "%config Completer.use_jedi = False\n",
    "%matplotlib inline"
   ]
  },
  {
   "cell_type": "code",
   "execution_count": 173,
   "id": "incident-screw",
   "metadata": {},
   "outputs": [
    {
     "data": {
      "text/html": [
       "<div>\n",
       "<style scoped>\n",
       "    .dataframe tbody tr th:only-of-type {\n",
       "        vertical-align: middle;\n",
       "    }\n",
       "\n",
       "    .dataframe tbody tr th {\n",
       "        vertical-align: top;\n",
       "    }\n",
       "\n",
       "    .dataframe thead th {\n",
       "        text-align: right;\n",
       "    }\n",
       "</style>\n",
       "<table border=\"1\" class=\"dataframe\">\n",
       "  <thead>\n",
       "    <tr style=\"text-align: right;\">\n",
       "      <th></th>\n",
       "      <th>survived</th>\n",
       "      <th>pclass</th>\n",
       "      <th>sex</th>\n",
       "      <th>age</th>\n",
       "      <th>sibsp</th>\n",
       "      <th>parch</th>\n",
       "      <th>fare</th>\n",
       "    </tr>\n",
       "  </thead>\n",
       "  <tbody>\n",
       "    <tr>\n",
       "      <th>0</th>\n",
       "      <td>0</td>\n",
       "      <td>3</td>\n",
       "      <td>male</td>\n",
       "      <td>22.0</td>\n",
       "      <td>1</td>\n",
       "      <td>0</td>\n",
       "      <td>7.2500</td>\n",
       "    </tr>\n",
       "    <tr>\n",
       "      <th>1</th>\n",
       "      <td>1</td>\n",
       "      <td>1</td>\n",
       "      <td>female</td>\n",
       "      <td>38.0</td>\n",
       "      <td>1</td>\n",
       "      <td>0</td>\n",
       "      <td>71.2833</td>\n",
       "    </tr>\n",
       "    <tr>\n",
       "      <th>2</th>\n",
       "      <td>1</td>\n",
       "      <td>3</td>\n",
       "      <td>female</td>\n",
       "      <td>26.0</td>\n",
       "      <td>0</td>\n",
       "      <td>0</td>\n",
       "      <td>7.9250</td>\n",
       "    </tr>\n",
       "    <tr>\n",
       "      <th>3</th>\n",
       "      <td>1</td>\n",
       "      <td>1</td>\n",
       "      <td>female</td>\n",
       "      <td>35.0</td>\n",
       "      <td>1</td>\n",
       "      <td>0</td>\n",
       "      <td>53.1000</td>\n",
       "    </tr>\n",
       "    <tr>\n",
       "      <th>4</th>\n",
       "      <td>0</td>\n",
       "      <td>3</td>\n",
       "      <td>male</td>\n",
       "      <td>35.0</td>\n",
       "      <td>0</td>\n",
       "      <td>0</td>\n",
       "      <td>8.0500</td>\n",
       "    </tr>\n",
       "  </tbody>\n",
       "</table>\n",
       "</div>"
      ],
      "text/plain": [
       "   survived  pclass     sex   age  sibsp  parch     fare\n",
       "0         0       3    male  22.0      1      0   7.2500\n",
       "1         1       1  female  38.0      1      0  71.2833\n",
       "2         1       3  female  26.0      0      0   7.9250\n",
       "3         1       1  female  35.0      1      0  53.1000\n",
       "4         0       3    male  35.0      0      0   8.0500"
      ]
     },
     "execution_count": 173,
     "metadata": {},
     "output_type": "execute_result"
    }
   ],
   "source": [
    "df_titanic = pd.read_csv('titanic.csv', usecols = [\"pclass\", \"sex\", \"age\", \"sibsp\", \"parch\", \"fare\",\"survived\"])\n",
    "df_titanic.head()"
   ]
  },
  {
   "cell_type": "code",
   "execution_count": 174,
   "id": "steady-plane",
   "metadata": {},
   "outputs": [
    {
     "name": "stdout",
     "output_type": "stream",
     "text": [
      "<class 'pandas.core.frame.DataFrame'>\n",
      "RangeIndex: 891 entries, 0 to 890\n",
      "Data columns (total 7 columns):\n",
      " #   Column    Non-Null Count  Dtype  \n",
      "---  ------    --------------  -----  \n",
      " 0   survived  891 non-null    int64  \n",
      " 1   pclass    891 non-null    int64  \n",
      " 2   sex       891 non-null    object \n",
      " 3   age       714 non-null    float64\n",
      " 4   sibsp     891 non-null    int64  \n",
      " 5   parch     891 non-null    int64  \n",
      " 6   fare      891 non-null    float64\n",
      "dtypes: float64(2), int64(4), object(1)\n",
      "memory usage: 48.9+ KB\n"
     ]
    }
   ],
   "source": [
    "df_titanic.info()"
   ]
  },
  {
   "cell_type": "code",
   "execution_count": 175,
   "id": "strategic-settle",
   "metadata": {},
   "outputs": [
    {
     "data": {
      "text/plain": [
       "19.87"
      ]
     },
     "execution_count": 175,
     "metadata": {},
     "output_type": "execute_result"
    }
   ],
   "source": [
    "# Age is having missing data\n",
    "# Let's calculate the percentage of the missing data age have\n",
    "\n",
    "age_missing_percent = df_titanic['age'].isnull().sum()/len(df_titanic)*100\n",
    "round(age_missing_percent,2)"
   ]
  },
  {
   "cell_type": "code",
   "execution_count": 176,
   "id": "equal-beach",
   "metadata": {},
   "outputs": [
    {
     "data": {
      "text/plain": [
       "count    714.000000\n",
       "mean      29.699118\n",
       "std       14.526497\n",
       "min        0.420000\n",
       "25%       20.125000\n",
       "50%       28.000000\n",
       "75%       38.000000\n",
       "max       80.000000\n",
       "Name: age, dtype: float64"
      ]
     },
     "execution_count": 176,
     "metadata": {},
     "output_type": "execute_result"
    }
   ],
   "source": [
    "df_titanic['age'].describe()"
   ]
  },
  {
   "cell_type": "code",
   "execution_count": 177,
   "id": "published-lesbian",
   "metadata": {},
   "outputs": [
    {
     "data": {
      "text/html": [
       "<div>\n",
       "<style scoped>\n",
       "    .dataframe tbody tr th:only-of-type {\n",
       "        vertical-align: middle;\n",
       "    }\n",
       "\n",
       "    .dataframe tbody tr th {\n",
       "        vertical-align: top;\n",
       "    }\n",
       "\n",
       "    .dataframe thead th {\n",
       "        text-align: right;\n",
       "    }\n",
       "</style>\n",
       "<table border=\"1\" class=\"dataframe\">\n",
       "  <thead>\n",
       "    <tr style=\"text-align: right;\">\n",
       "      <th></th>\n",
       "      <th>survived</th>\n",
       "      <th>pclass</th>\n",
       "      <th>sex</th>\n",
       "      <th>age</th>\n",
       "      <th>sibsp</th>\n",
       "      <th>parch</th>\n",
       "      <th>fare</th>\n",
       "    </tr>\n",
       "  </thead>\n",
       "  <tbody>\n",
       "    <tr>\n",
       "      <th>78</th>\n",
       "      <td>1</td>\n",
       "      <td>2</td>\n",
       "      <td>male</td>\n",
       "      <td>0.83</td>\n",
       "      <td>0</td>\n",
       "      <td>2</td>\n",
       "      <td>29.0000</td>\n",
       "    </tr>\n",
       "    <tr>\n",
       "      <th>305</th>\n",
       "      <td>1</td>\n",
       "      <td>1</td>\n",
       "      <td>male</td>\n",
       "      <td>0.92</td>\n",
       "      <td>1</td>\n",
       "      <td>2</td>\n",
       "      <td>151.5500</td>\n",
       "    </tr>\n",
       "    <tr>\n",
       "      <th>469</th>\n",
       "      <td>1</td>\n",
       "      <td>3</td>\n",
       "      <td>female</td>\n",
       "      <td>0.75</td>\n",
       "      <td>2</td>\n",
       "      <td>1</td>\n",
       "      <td>19.2583</td>\n",
       "    </tr>\n",
       "    <tr>\n",
       "      <th>644</th>\n",
       "      <td>1</td>\n",
       "      <td>3</td>\n",
       "      <td>female</td>\n",
       "      <td>0.75</td>\n",
       "      <td>2</td>\n",
       "      <td>1</td>\n",
       "      <td>19.2583</td>\n",
       "    </tr>\n",
       "    <tr>\n",
       "      <th>755</th>\n",
       "      <td>1</td>\n",
       "      <td>2</td>\n",
       "      <td>male</td>\n",
       "      <td>0.67</td>\n",
       "      <td>1</td>\n",
       "      <td>1</td>\n",
       "      <td>14.5000</td>\n",
       "    </tr>\n",
       "    <tr>\n",
       "      <th>803</th>\n",
       "      <td>1</td>\n",
       "      <td>3</td>\n",
       "      <td>male</td>\n",
       "      <td>0.42</td>\n",
       "      <td>0</td>\n",
       "      <td>1</td>\n",
       "      <td>8.5167</td>\n",
       "    </tr>\n",
       "    <tr>\n",
       "      <th>831</th>\n",
       "      <td>1</td>\n",
       "      <td>2</td>\n",
       "      <td>male</td>\n",
       "      <td>0.83</td>\n",
       "      <td>1</td>\n",
       "      <td>1</td>\n",
       "      <td>18.7500</td>\n",
       "    </tr>\n",
       "  </tbody>\n",
       "</table>\n",
       "</div>"
      ],
      "text/plain": [
       "     survived  pclass     sex   age  sibsp  parch      fare\n",
       "78          1       2    male  0.83      0      2   29.0000\n",
       "305         1       1    male  0.92      1      2  151.5500\n",
       "469         1       3  female  0.75      2      1   19.2583\n",
       "644         1       3  female  0.75      2      1   19.2583\n",
       "755         1       2    male  0.67      1      1   14.5000\n",
       "803         1       3    male  0.42      0      1    8.5167\n",
       "831         1       2    male  0.83      1      1   18.7500"
      ]
     },
     "execution_count": 177,
     "metadata": {},
     "output_type": "execute_result"
    }
   ],
   "source": [
    "# Let's check the age of the passengers between 0 and 1\n",
    "\n",
    "more_than_0 = df_titanic['age'] > 0\n",
    "less_than_1 = df_titanic['age'] < 1\n",
    "df_titanic[more_than_0 & less_than_1]"
   ]
  },
  {
   "cell_type": "code",
   "execution_count": 178,
   "id": "random-crowd",
   "metadata": {},
   "outputs": [],
   "source": [
    "# Here we detect 2 problems\n",
    "# 1. Min age is 0.42 which cannot be someones age -> Replace it with 1\n",
    "# 2. 19% of data is missing -> Impute with best possible solutions (Mean and Median are same so we will using Median as the missing values)\n",
    "\n",
    "df_titanic['age'] = df_titanic['age'].fillna(df_titanic['age'].median())\n",
    "df_titanic['age'] = np.where(((df_titanic['age'] > 0) & (df_titanic['age'] < 1)),1,df_titanic['age'])\n",
    "df_titanic['age'] = df_titanic['age'].astype('int')"
   ]
  },
  {
   "cell_type": "code",
   "execution_count": 179,
   "id": "egyptian-oklahoma",
   "metadata": {},
   "outputs": [
    {
     "name": "stdout",
     "output_type": "stream",
     "text": [
      "<class 'pandas.core.frame.DataFrame'>\n",
      "RangeIndex: 891 entries, 0 to 890\n",
      "Data columns (total 7 columns):\n",
      " #   Column    Non-Null Count  Dtype  \n",
      "---  ------    --------------  -----  \n",
      " 0   survived  891 non-null    int64  \n",
      " 1   pclass    891 non-null    int64  \n",
      " 2   sex       891 non-null    object \n",
      " 3   age       891 non-null    int32  \n",
      " 4   sibsp     891 non-null    int64  \n",
      " 5   parch     891 non-null    int64  \n",
      " 6   fare      891 non-null    float64\n",
      "dtypes: float64(1), int32(1), int64(4), object(1)\n",
      "memory usage: 45.4+ KB\n"
     ]
    }
   ],
   "source": [
    "df_titanic.info()"
   ]
  },
  {
   "cell_type": "code",
   "execution_count": 180,
   "id": "academic-frontier",
   "metadata": {},
   "outputs": [],
   "source": [
    "# Let's change the column types as per data definition\n",
    "# survived can be changed categorical\n",
    "# pclass can be changed to categorical\n",
    "# sex need to changed to categorical from object\n",
    "# fare can be rounded off to 2 decimal points\n",
    "#df_titanic['survived'] = df_titanic['survived'].astype('category')\n",
    "#df_titanic['pclass'] = df_titanic['pclass'].astype('category')\n",
    "#df_titanic['sex'] = df_titanic['sex'].astype('str')\n",
    "\n",
    "le = LabelEncoder()\n",
    "df_titanic['sex'] = le.fit_transform(df_titanic['sex'].astype(str))\n",
    "\n",
    "df_titanic['fare'] = round(df_titanic['fare'],2)"
   ]
  },
  {
   "cell_type": "code",
   "execution_count": 181,
   "id": "martial-complement",
   "metadata": {},
   "outputs": [
    {
     "name": "stdout",
     "output_type": "stream",
     "text": [
      "<class 'pandas.core.frame.DataFrame'>\n",
      "RangeIndex: 891 entries, 0 to 890\n",
      "Data columns (total 7 columns):\n",
      " #   Column    Non-Null Count  Dtype  \n",
      "---  ------    --------------  -----  \n",
      " 0   survived  891 non-null    int64  \n",
      " 1   pclass    891 non-null    int64  \n",
      " 2   sex       891 non-null    int32  \n",
      " 3   age       891 non-null    int32  \n",
      " 4   sibsp     891 non-null    int64  \n",
      " 5   parch     891 non-null    int64  \n",
      " 6   fare      891 non-null    float64\n",
      "dtypes: float64(1), int32(2), int64(4)\n",
      "memory usage: 41.9 KB\n"
     ]
    }
   ],
   "source": [
    "df_titanic.info()"
   ]
  },
  {
   "cell_type": "code",
   "execution_count": 182,
   "id": "opposite-craps",
   "metadata": {},
   "outputs": [
    {
     "data": {
      "text/html": [
       "<div>\n",
       "<style scoped>\n",
       "    .dataframe tbody tr th:only-of-type {\n",
       "        vertical-align: middle;\n",
       "    }\n",
       "\n",
       "    .dataframe tbody tr th {\n",
       "        vertical-align: top;\n",
       "    }\n",
       "\n",
       "    .dataframe thead th {\n",
       "        text-align: right;\n",
       "    }\n",
       "</style>\n",
       "<table border=\"1\" class=\"dataframe\">\n",
       "  <thead>\n",
       "    <tr style=\"text-align: right;\">\n",
       "      <th></th>\n",
       "      <th>survived</th>\n",
       "      <th>pclass</th>\n",
       "      <th>sex</th>\n",
       "      <th>age</th>\n",
       "      <th>sibsp</th>\n",
       "      <th>parch</th>\n",
       "      <th>fare</th>\n",
       "    </tr>\n",
       "  </thead>\n",
       "  <tbody>\n",
       "    <tr>\n",
       "      <th>0</th>\n",
       "      <td>0</td>\n",
       "      <td>3</td>\n",
       "      <td>1</td>\n",
       "      <td>22</td>\n",
       "      <td>1</td>\n",
       "      <td>0</td>\n",
       "      <td>7.25</td>\n",
       "    </tr>\n",
       "    <tr>\n",
       "      <th>1</th>\n",
       "      <td>1</td>\n",
       "      <td>1</td>\n",
       "      <td>0</td>\n",
       "      <td>38</td>\n",
       "      <td>1</td>\n",
       "      <td>0</td>\n",
       "      <td>71.28</td>\n",
       "    </tr>\n",
       "    <tr>\n",
       "      <th>2</th>\n",
       "      <td>1</td>\n",
       "      <td>3</td>\n",
       "      <td>0</td>\n",
       "      <td>26</td>\n",
       "      <td>0</td>\n",
       "      <td>0</td>\n",
       "      <td>7.92</td>\n",
       "    </tr>\n",
       "    <tr>\n",
       "      <th>3</th>\n",
       "      <td>1</td>\n",
       "      <td>1</td>\n",
       "      <td>0</td>\n",
       "      <td>35</td>\n",
       "      <td>1</td>\n",
       "      <td>0</td>\n",
       "      <td>53.10</td>\n",
       "    </tr>\n",
       "    <tr>\n",
       "      <th>4</th>\n",
       "      <td>0</td>\n",
       "      <td>3</td>\n",
       "      <td>1</td>\n",
       "      <td>35</td>\n",
       "      <td>0</td>\n",
       "      <td>0</td>\n",
       "      <td>8.05</td>\n",
       "    </tr>\n",
       "  </tbody>\n",
       "</table>\n",
       "</div>"
      ],
      "text/plain": [
       "   survived  pclass  sex  age  sibsp  parch   fare\n",
       "0         0       3    1   22      1      0   7.25\n",
       "1         1       1    0   38      1      0  71.28\n",
       "2         1       3    0   26      0      0   7.92\n",
       "3         1       1    0   35      1      0  53.10\n",
       "4         0       3    1   35      0      0   8.05"
      ]
     },
     "execution_count": 182,
     "metadata": {},
     "output_type": "execute_result"
    }
   ],
   "source": [
    "df_titanic.head()"
   ]
  },
  {
   "cell_type": "code",
   "execution_count": 183,
   "id": "cooperative-strain",
   "metadata": {},
   "outputs": [],
   "source": [
    "X = df_titanic.iloc[:,1:]\n",
    "y = df_titanic['survived']"
   ]
  },
  {
   "cell_type": "code",
   "execution_count": 184,
   "id": "seven-university",
   "metadata": {},
   "outputs": [
    {
     "name": "stdout",
     "output_type": "stream",
     "text": [
      "Shape of X_train: (712, 6)\n",
      "Shape of X_test: (179, 6)\n",
      "Shape of y_train: (712,)\n",
      "Shape of y_test: (179,)\n"
     ]
    }
   ],
   "source": [
    "X_train, X_test, y_train, y_test = train_test_split(X,y, test_size = 0.2, random_state = 40)\n",
    "print(f'Shape of X_train: {X_train.shape}')\n",
    "print(f'Shape of X_test: {X_test.shape}')\n",
    "print(f'Shape of y_train: {y_train.shape}')\n",
    "print(f'Shape of y_test: {y_test.shape}')"
   ]
  },
  {
   "cell_type": "code",
   "execution_count": 185,
   "id": "bored-personality",
   "metadata": {},
   "outputs": [
    {
     "name": "stdout",
     "output_type": "stream",
     "text": [
      "Accuracy of Train Data: 0.9817415730337079\n",
      "Accuracy of Test Data: 0.8156424581005587\n"
     ]
    }
   ],
   "source": [
    "clf = DecisionTreeClassifier()\n",
    "model = clf.fit(X_train,y_train)\n",
    "y_predict = model.predict(X_test)\n",
    "\n",
    "print(f'Accuracy of Train Data: {clf.score(X_train, y_train)}')\n",
    "print(f'Accuracy of Test Data: {clf.score(X_test, y_test)}')"
   ]
  },
  {
   "cell_type": "code",
   "execution_count": 194,
   "id": "industrial-structure",
   "metadata": {
    "scrolled": true
   },
   "outputs": [
    {
     "data": {
      "text/plain": [
       "array([[89, 14],\n",
       "       [19, 57]], dtype=int64)"
      ]
     },
     "execution_count": 194,
     "metadata": {},
     "output_type": "execute_result"
    }
   ],
   "source": [
    "confusion_matrix(y_test,y_predict)"
   ]
  },
  {
   "cell_type": "code",
   "execution_count": 253,
   "id": "accompanied-introduction",
   "metadata": {},
   "outputs": [
    {
     "data": {
      "text/plain": [
       "GridSearchCV(cv=5,\n",
       "             estimator=DecisionTreeClassifier(criterion='entropy', max_depth=14,\n",
       "                                              min_samples_leaf=2,\n",
       "                                              min_samples_split=7,\n",
       "                                              splitter='random'),\n",
       "             n_jobs=-1,\n",
       "             param_grid={'criterion': ['gini', 'entropy'],\n",
       "                         'max_depth': range(3, 20),\n",
       "                         'min_samples_leaf': range(2, 10),\n",
       "                         'min_samples_split': range(1, 10)})"
      ]
     },
     "execution_count": 253,
     "metadata": {},
     "output_type": "execute_result"
    }
   ],
   "source": [
    "# Clearly we have overfitting data here\n",
    "# Let's optmise the model\n",
    "\n",
    "parameters = {\n",
    "    'criterion' : ['gini','entropy'],\n",
    "    'max_depth' : range(3,20,1),\n",
    "    'criterion': ['gini','entropy'],\n",
    "    'min_samples_leaf': range(2,10,1),\n",
    "    'min_samples_split': range(1,10,1),   \n",
    "}\n",
    "\n",
    "grid_search = GridSearchCV(estimator= model, param_grid= parameters, cv = 5, n_jobs= -1)\n",
    "grid_search.fit(X_train, y_train)"
   ]
  },
  {
   "cell_type": "code",
   "execution_count": 254,
   "id": "changed-assumption",
   "metadata": {
    "scrolled": true
   },
   "outputs": [
    {
     "name": "stdout",
     "output_type": "stream",
     "text": [
      "Selected Best Params: {'criterion': 'gini', 'max_depth': 10, 'min_samples_leaf': 3, 'min_samples_split': 3}\n",
      "Best Score Achieved: 0.8230473751600511\n"
     ]
    }
   ],
   "source": [
    "print(f'Selected Best Params: {grid_search.best_params_}')\n",
    "print(f'Best Score Achieved: {grid_search.best_score_}')"
   ]
  },
  {
   "cell_type": "code",
   "execution_count": 256,
   "id": "powerful-intent",
   "metadata": {},
   "outputs": [
    {
     "name": "stdout",
     "output_type": "stream",
     "text": [
      "Train Score is: 0.8960674157303371\n",
      "Test Score is: 0.8268156424581006\n"
     ]
    }
   ],
   "source": [
    "model = DecisionTreeClassifier(criterion= 'gini', max_depth= 10, min_samples_leaf= 3, min_samples_split= 3)\n",
    "model.fit(X_train,y_train)\n",
    "grid_search_train_score = model.score(X_train, y_train)\n",
    "print(f'Train Score is: {grid_search_train_score}')\n",
    "grid_search_test_score = model.score(X_test, y_test)\n",
    "print(f'Test Score is: {grid_search_test_score}')"
   ]
  },
  {
   "cell_type": "code",
   "execution_count": 257,
   "id": "level-glasgow",
   "metadata": {},
   "outputs": [
    {
     "data": {
      "text/plain": [
       "array([0.        , 0.        , 0.00014045, 0.00015605, 0.00026166,\n",
       "       0.00031211, 0.00036116, 0.00039018, 0.00046816, 0.00046816,\n",
       "       0.00052669, 0.0005875 , 0.00061076, 0.00063841, 0.00066274,\n",
       "       0.00068097, 0.00068097, 0.00078027, 0.00080257, 0.00082697,\n",
       "       0.00083601, 0.00085121, 0.00090943, 0.00092403, 0.00092604,\n",
       "       0.00094269, 0.00109238, 0.00115241, 0.00123767, 0.0012697 ,\n",
       "       0.00134647, 0.00142561, 0.00144462, 0.00146623, 0.00156055,\n",
       "       0.00199992, 0.0027476 , 0.00276705, 0.00322142, 0.00357946,\n",
       "       0.00360723, 0.00511536, 0.01053557, 0.01196503, 0.01513108,\n",
       "       0.03392969, 0.13044564])"
      ]
     },
     "execution_count": 257,
     "metadata": {},
     "output_type": "execute_result"
    }
   ],
   "source": [
    "# Still we can see there is some overfitting\n",
    "# Let's perform Post Pruning\n",
    "\n",
    "\n",
    "path = model.cost_complexity_pruning_path(X_train,y_train)\n",
    "ccp_alphas, impurities = path.ccp_alphas, path.impurities\n",
    "ccp_alphas"
   ]
  },
  {
   "cell_type": "code",
   "execution_count": 258,
   "id": "peripheral-rebate",
   "metadata": {},
   "outputs": [],
   "source": [
    "clfs= []\n",
    "\n",
    "for i in ccp_alphas:    \n",
    "    model_ccp = DecisionTreeClassifier(ccp_alpha = i)\n",
    "    model_ccp.fit(X_train, y_train)\n",
    "    clfs.append(model_ccp)"
   ]
  },
  {
   "cell_type": "code",
   "execution_count": 259,
   "id": "wicked-notebook",
   "metadata": {},
   "outputs": [],
   "source": [
    "train_score = [clf.score(X_train, y_train) for clf in clfs]\n",
    "test_score = [clf.score(X_test, y_test) for clf in clfs]"
   ]
  },
  {
   "cell_type": "code",
   "execution_count": 260,
   "id": "accompanied-lithuania",
   "metadata": {},
   "outputs": [
    {
     "data": {
      "image/png": "[encoded data removed]",
      "text/plain": [
       "<Figure size 1440x720 with 1 Axes>"
      ]
     },
     "metadata": {
      "needs_background": "light"
     },
     "output_type": "display_data"
    }
   ],
   "source": [
    "fig, ax = plt.subplots(figsize=(20,10))\n",
    "ax.set_xlabel(\"alpha\")\n",
    "ax.set_ylabel(\"accuracy\")\n",
    "ax.set_title(\"Accuracy vs alpha for training and testing sets\")\n",
    "ax.plot(ccp_alphas, train_score, marker='o', label=\"train\",\n",
    "        drawstyle=\"steps-post\", )\n",
    "ax.plot(ccp_alphas, test_score, marker='o', label=\"test\",\n",
    "        drawstyle=\"steps-post\")\n",
    "ax.legend()\n",
    "plt.show()"
   ]
  },
  {
   "cell_type": "code",
   "execution_count": 273,
   "id": "cheap-looking",
   "metadata": {},
   "outputs": [
    {
     "name": "stdout",
     "output_type": "stream",
     "text": [
      "Train Score is: 0.8216292134831461\n",
      "Test Score is: 0.8268156424581006\n"
     ]
    }
   ],
   "source": [
    "model_final = DecisionTreeClassifier(criterion= 'entropy', max_depth= 14, min_samples_leaf= 2, min_samples_split= 7, ccp_alpha= 0.007)\n",
    "model_final.fit(X_train,y_train)\n",
    "final_train_score = model_final.score(X_train, y_train)\n",
    "print(f'Train Score is: {final_train_score}')\n",
    "final_test_score = model_final.score(X_test, y_test)\n",
    "print(f'Test Score is: {final_test_score}')"
   ]
  },
  {
   "cell_type": "code",
   "execution_count": 274,
   "id": "corresponding-reaction",
   "metadata": {},
   "outputs": [],
   "source": [
    "final_pred = model_final.predict(X_test)"
   ]
  },
  {
   "cell_type": "code",
   "execution_count": 275,
   "id": "absolute-macedonia",
   "metadata": {},
   "outputs": [
    {
     "data": {
      "text/plain": [
       "array([[91, 12],\n",
       "       [19, 57]], dtype=int64)"
      ]
     },
     "execution_count": 275,
     "metadata": {},
     "output_type": "execute_result"
    }
   ],
   "source": [
    "confusion_matrix(y_test, final_pred)"
   ]
  }
 ],
 "metadata": {
  "kernelspec": {
   "display_name": "Python 3",
   "language": "python",
   "name": "python3"
  },
  "language_info": {
   "codemirror_mode": {
    "name": "ipython",
    "version": 3
   },
   "file_extension": ".py",
   "mimetype": "text/x-python",
   "name": "python",
   "nbconvert_exporter": "python",
   "pygments_lexer": "ipython3",
   "version": "3.7.1"
  }
 },
 "nbformat": 4,
 "nbformat_minor": 5
}
