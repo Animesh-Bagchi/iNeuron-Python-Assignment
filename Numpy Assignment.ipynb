{
 "cells": [
  {
   "cell_type": "code",
   "execution_count": 1,
   "metadata": {},
   "outputs": [],
   "source": [
    "import numpy as np"
   ]
  },
  {
   "cell_type": "code",
   "execution_count": 3,
   "metadata": {},
   "outputs": [
    {
     "name": "stdout",
     "output_type": "stream",
     "text": [
      "Enter the number of iterations:6\n",
      "Enter the number for the function '(enter character to exit)': 1\n",
      "Enter the number for the function '(enter character to exit)': 2\n",
      "Enter the number for the function '(enter character to exit)': 3\n",
      "Enter the number for the function '(enter character to exit)': 4\n",
      "Enter the number for the function '(enter character to exit)': 5\n",
      "Enter the number for the function '(enter character to exit)': c\n",
      "----------- Increasing Display------------\n",
      "\n",
      "[[   1    1    1    1    1    1]\n",
      " [   1    2    4    8   16   32]\n",
      " [   1    3    9   27   81  243]\n",
      " [   1    4   16   64  256 1024]\n",
      " [   1    5   25  125  625 3125]]\n",
      "\n",
      "----------- Decreasing Display------------\n",
      "\n",
      "[[   1    1    1    1    1    1]\n",
      " [  32   16    8    4    2    1]\n",
      " [ 243   81   27    9    3    1]\n",
      " [1024  256   64   16    4    1]\n",
      " [3125  625  125   25    5    1]]\n"
     ]
    }
   ],
   "source": [
    "# Question No. 1\n",
    "\n",
    "def cal_order_powers(input_list,no_of_iter,increasing):\n",
    "    if increasing == True:\n",
    "        output_list = [i**j for i in input_list for j in range(no_of_iter)]\n",
    "    else:\n",
    "        output_list = [i**(no_of_iter-1-j) for i in input_list for j in range(no_of_iter)]\n",
    "    return output_list\n",
    "\n",
    "user_input = []\n",
    "required_iter = int(input('Enter the number of iterations:'))\n",
    "while True:\n",
    "    try:\n",
    "        user_input.append(int(input(\"Enter the number for the function '(enter character to exit)': \")))\n",
    "    except:\n",
    "        break\n",
    "print(\"----------- Increasing Display------------\\n\")\n",
    "print(np.array(cal_order_powers(user_input,required_iter,True)).reshape(len(user_input),required_iter))\n",
    "print(\"\\n----------- Decreasing Display------------\\n\")\n",
    "print(np.array(cal_order_powers(user_input,required_iter,False)).reshape(len(user_input),required_iter))"
   ]
  },
  {
   "cell_type": "code",
   "execution_count": 20,
   "metadata": {},
   "outputs": [
    {
     "name": "stdout",
     "output_type": "stream",
     "text": [
      " The moving average is :  [  5.           4.66666667   5.66666667   6.66666667   9.66666667\n",
      "  28.66666667  49.33333333  72.66666667  84.          93.33333333\n",
      " 116.33333333]\n"
     ]
    }
   ],
   "source": [
    "# Question 2:\n",
    "\n",
    "def moving_average(a, n=3) :\n",
    "    mov_avg = np.cumsum(a, dtype=float)\n",
    "    mov_avg[n:] = mov_avg[n:] - mov_avg[:-n]\n",
    "    return mov_avg[n - 1:]/ n\n",
    "\n",
    "my_list = [3, 5, 7, 2, 8, 10, 11, 65, 72, 81, 99, 100, 150]\n",
    "print(' The moving average is : ', moving_average(my_list))"
   ]
  }
 ],
 "metadata": {
  "kernelspec": {
   "display_name": "Python 3",
   "language": "python",
   "name": "python3"
  },
  "language_info": {
   "codemirror_mode": {
    "name": "ipython",
    "version": 3
   },
   "file_extension": ".py",
   "mimetype": "text/x-python",
   "name": "python",
   "nbconvert_exporter": "python",
   "pygments_lexer": "ipython3",
   "version": "3.7.1"
  }
 },
 "nbformat": 4,
 "nbformat_minor": 2
}
